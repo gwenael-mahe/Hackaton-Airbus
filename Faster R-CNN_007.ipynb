{
 "cells": [
  {
   "cell_type": "markdown",
   "id": "d08958f9",
   "metadata": {},
   "source": [
    "# Faster R-CNN in Pytorch with Example"
   ]
  },
  {
   "cell_type": "code",
   "execution_count": 1,
   "id": "c88c0307",
   "metadata": {},
   "outputs": [],
   "source": [
    "%load_ext autoreload\n",
    "%autoreload 2"
   ]
  },
  {
   "cell_type": "code",
   "execution_count": 2,
   "id": "48921851",
   "metadata": {},
   "outputs": [],
   "source": [
    "import numpy as np\n",
    "import io\n",
    "import cv2\n",
    "#from skimage.transform import resize\n",
    "#from scipy.misc import resize\n",
    "from PIL import Image, ImageOps\n",
    "import matplotlib.pyplot as plt\n",
    "from matplotlib.pyplot import imread\n",
    "import random\n",
    "import matplotlib.patches as patches\n",
    "from utils import *\n",
    "from model import *\n",
    "import os\n",
    "\n",
    "import torch\n",
    "import torchvision\n",
    "from torchvision import ops\n",
    "import torch.nn as nn\n",
    "import torch.nn.functional as F\n",
    "from torch.utils.data import DataLoader, Dataset\n",
    "from torch.nn.utils.rnn import pad_sequence"
   ]
  },
  {
   "cell_type": "markdown",
   "id": "21fd3b9f",
   "metadata": {},
   "source": [
    "### Load Images"
   ]
  },
  {
   "cell_type": "markdown",
   "id": "f1b80bab",
   "metadata": {},
   "source": [
    "**Note:** The annotations should also contain the corresponding image path"
   ]
  },
  {
   "cell_type": "code",
   "execution_count": 3,
   "id": "ee30f748",
   "metadata": {},
   "outputs": [],
   "source": [
    "class ObjectDetectionDataset(Dataset):\n",
    "    '''\n",
    "    A Pytorch Dataset class to load the images and their corresponding annotations.\n",
    "    \n",
    "    Returns\n",
    "    ------------\n",
    "    images: torch.Tensor of size (B, C, H, W)\n",
    "    gt bboxes: torch.Tensor of size (B, max_objects, 4)\n",
    "    gt classes: torch.Tensor of size (B, max_objects)\n",
    "    '''\n",
    "    def __init__(self, annotation_path, img_dir, img_size, name2idx):\n",
    "        self.annotation_path = annotation_path\n",
    "        self.img_dir = img_dir\n",
    "        self.img_size = img_size\n",
    "        self.name2idx = name2idx\n",
    "        \n",
    "        self.img_data_all, self.gt_bboxes_all, self.gt_classes_all = self.get_data()\n",
    "        \n",
    "    def __len__(self):\n",
    "        return self.img_data_all.size(dim=0)\n",
    "    \n",
    "    def __getitem__(self, idx):\n",
    "        return self.img_data_all[idx], self.gt_bboxes_all[idx], self.gt_classes_all[idx]\n",
    "        \n",
    "    def get_data(self):\n",
    "        img_data_all = []\n",
    "        gt_idxs_all = []\n",
    "        \n",
    "        gt_boxes_all, gt_classes_all, img_paths = parse_annotation(self.annotation_path, self.img_dir, self.img_size)\n",
    "        \n",
    "        for i, img_path in enumerate(img_paths):\n",
    "            \n",
    "            # skip if the image path is not valid\n",
    "            if (not img_path) or (not os.path.exists(img_path)):\n",
    "                continue\n",
    "                \n",
    "            # read and resize image\n",
    "            img = imread(img_path)\n",
    "            #img = Image.open(img_path)\n",
    "            #img = img.resize(self.img_size)\n",
    "            img = np.stack([img] * 3, axis=-1)\n",
    "            img = cv2.resize(img, (self.img_size), interpolation = cv2.INTER_LINEAR)\n",
    "            #img = np.array(img)\n",
    "            #img = cv2.imread(img_path, cv2.IMREAD_GRAYSCALE)\n",
    "            \n",
    "            \n",
    "            #X.append(img_3d_resized)\n",
    "\n",
    "            #X = np.array(X)\n",
    "\n",
    "            # Normaliser les images\n",
    "            #X = X / 255.0\n",
    "\n",
    "            # Charger les images en noir et blanc en trois dimensions\n",
    "            \n",
    "            \n",
    "\n",
    "            # convert image to torch tensor and reshape it so channels come first\n",
    "            img_tensor = torch.from_numpy(img).permute(2, 0, 1)\n",
    "            #print(img_tensor.shape)\n",
    "            # encode class names as integers\n",
    "            gt_classes = gt_classes_all[i]\n",
    "            gt_idx = torch.Tensor([self.name2idx[name] for name in gt_classes])\n",
    "            \n",
    "            img_data_all.append(img_tensor)\n",
    "            gt_idxs_all.append(gt_idx)\n",
    "        \n",
    "        # pad bounding boxes and classes so they are of the same size\n",
    "        gt_bboxes_pad = pad_sequence(gt_boxes_all, batch_first=True, padding_value=-1)\n",
    "        gt_classes_pad = pad_sequence(gt_idxs_all, batch_first=True, padding_value=-1)\n",
    "        \n",
    "        # stack all images\n",
    "        img_data_stacked = torch.stack(img_data_all, dim=0)\n",
    "        \n",
    "        return img_data_stacked.to(dtype=torch.float32), gt_bboxes_pad, gt_classes_pad"
   ]
  },
  {
   "cell_type": "code",
   "execution_count": 4,
   "id": "f1859b50",
   "metadata": {},
   "outputs": [],
   "source": [
    "img_width = 1024\n",
    "img_height = 1024\n",
    "annotation_path = \"test_data/annotations.xml\"\n",
    "image_dir = os.path.join(\"test_data\", \"images\")#\n",
    "name2idx = {'pad': -1, 'default': 0, 'defaut': 1}\n",
    "idx2name = {v:k for k, v in name2idx.items()}"
   ]
  },
  {
   "cell_type": "markdown",
   "id": "993d1c3e",
   "metadata": {},
   "source": [
    "#### Create Dataset and Dataloaders"
   ]
  },
  {
   "cell_type": "code",
   "execution_count": 5,
   "id": "d7c9cc2d",
   "metadata": {},
   "outputs": [],
   "source": [
    "od_dataset = ObjectDetectionDataset(annotation_path, image_dir, (img_height, img_width), name2idx)"
   ]
  },
  {
   "cell_type": "code",
   "execution_count": 6,
   "id": "3dfcddd3",
   "metadata": {},
   "outputs": [],
   "source": [
    "od_dataloader = DataLoader(od_dataset, batch_size=2)"
   ]
  },
  {
   "cell_type": "markdown",
   "id": "f9289639",
   "metadata": {},
   "source": [
    "#### Grab a batch for demonstration"
   ]
  },
  {
   "cell_type": "code",
   "execution_count": 7,
   "id": "6f15602c",
   "metadata": {},
   "outputs": [],
   "source": [
    "for img_batch, gt_bboxes_batch, gt_classes_batch in od_dataloader:\n",
    "    img_data_all = img_batch\n",
    "    gt_bboxes_all = gt_bboxes_batch\n",
    "    gt_classes_all = gt_classes_batch\n",
    "    break\n",
    "    \n",
    "img_data_all = img_data_all[:2]\n",
    "gt_bboxes_all = gt_bboxes_all[:2]\n",
    "gt_classes_all = gt_classes_all[:2]"
   ]
  },
  {
   "cell_type": "markdown",
   "id": "6febffa8",
   "metadata": {},
   "source": [
    "### Display Images and Bounding Boxes"
   ]
  },
  {
   "cell_type": "code",
   "execution_count": 8,
   "id": "103be978",
   "metadata": {},
   "outputs": [],
   "source": [
    "# get class names\n",
    "gt_class_1 = gt_classes_all[0].long()\n",
    "gt_class_1 = [idx2name[idx.item()] for idx in gt_class_1]\n",
    "\n",
    "gt_class_2 = gt_classes_all[1].long()\n",
    "gt_class_2 = [idx2name[idx.item()] for idx in gt_class_2]"
   ]
  },
  {
   "cell_type": "code",
   "execution_count": 9,
   "id": "54c91eb2",
   "metadata": {
    "scrolled": true
   },
   "outputs": [],
   "source": [
    "# nrows, ncols = (1, 2)\n",
    "# fig, axes = plt.subplots(nrows, ncols, figsize=(16, 8))\n",
    "\n",
    "# fig, axes = display_img(img_data_all, fig, axes)\n",
    "# fig, _ = display_bbox(gt_bboxes_all[0], fig, axes[0], classes=gt_class_1)\n",
    "# fig, _ = display_bbox(gt_bboxes_all[1], fig, axes[1], classes=gt_class_2)"
   ]
  },
  {
   "cell_type": "markdown",
   "id": "7d24ede3",
   "metadata": {},
   "source": [
    "## Convolutional Backbone Network"
   ]
  },
  {
   "cell_type": "markdown",
   "id": "fe846457",
   "metadata": {},
   "source": [
    "We will use the first 4 layers of resnet50 as our convolutional backbone"
   ]
  },
  {
   "cell_type": "code",
   "execution_count": 10,
   "id": "ed3e8af0",
   "metadata": {},
   "outputs": [],
   "source": [
    "model = torchvision.models.resnet50(pretrained=True)"
   ]
  },
  {
   "cell_type": "code",
   "execution_count": 11,
   "id": "f7b6b723",
   "metadata": {},
   "outputs": [],
   "source": [
    "req_layers = list(model.children())[:8]\n",
    "backbone = nn.Sequential(*req_layers)"
   ]
  },
  {
   "cell_type": "code",
   "execution_count": 12,
   "id": "8532cf8c",
   "metadata": {},
   "outputs": [],
   "source": [
    "# unfreeze all the parameters\n",
    "for param in backbone.named_parameters():\n",
    "    param[1].requires_grad = True"
   ]
  },
  {
   "cell_type": "code",
   "execution_count": 13,
   "id": "2415986c",
   "metadata": {},
   "outputs": [],
   "source": [
    "# run the image through the backbone\n",
    "out = backbone(img_data_all)"
   ]
  },
  {
   "cell_type": "code",
   "execution_count": 14,
   "id": "df93eb0b",
   "metadata": {},
   "outputs": [],
   "source": [
    "out_c, out_h, out_w = out.size(dim=1), out.size(dim=2), out.size(dim=3)"
   ]
  },
  {
   "cell_type": "code",
   "execution_count": 15,
   "id": "d2466983",
   "metadata": {},
   "outputs": [
    {
     "data": {
      "text/plain": [
       "(2048, 32, 32)"
      ]
     },
     "execution_count": 15,
     "metadata": {},
     "output_type": "execute_result"
    }
   ],
   "source": [
    "out_c, out_h, out_w"
   ]
  },
  {
   "cell_type": "markdown",
   "id": "34acbd31",
   "metadata": {},
   "source": [
    "#### Check how much the image has been down-scaled"
   ]
  },
  {
   "cell_type": "code",
   "execution_count": 16,
   "id": "a8e3b9a2",
   "metadata": {},
   "outputs": [
    {
     "data": {
      "text/plain": [
       "(32, 32)"
      ]
     },
     "execution_count": 16,
     "metadata": {},
     "output_type": "execute_result"
    }
   ],
   "source": [
    "width_scale_factor = img_width // out_w\n",
    "height_scale_factor = img_height // out_h\n",
    "height_scale_factor, width_scale_factor"
   ]
  },
  {
   "cell_type": "markdown",
   "id": "d191bc5e",
   "metadata": {},
   "source": [
    "### Visualize feature maps"
   ]
  },
  {
   "cell_type": "code",
   "execution_count": 17,
   "id": "8d462854",
   "metadata": {},
   "outputs": [],
   "source": [
    "# nrows, ncols = (1, 2)\n",
    "# fig, axes = plt.subplots(nrows, ncols, figsize=(16, 8))\n",
    "\n",
    "# filters_data =[filters[0].detach().numpy() for filters in out[:2]]\n",
    "\n",
    "# fig, axes = display_img(filters_data, fig, axes)"
   ]
  },
  {
   "cell_type": "markdown",
   "id": "d36c1687",
   "metadata": {},
   "source": [
    "### Generate and Plot Anchor Points"
   ]
  },
  {
   "cell_type": "code",
   "execution_count": 18,
   "id": "6272e9fa",
   "metadata": {},
   "outputs": [],
   "source": [
    "anc_pts_x, anc_pts_y = gen_anc_centers(out_size=(out_h, out_w))"
   ]
  },
  {
   "cell_type": "markdown",
   "id": "89a4e02c",
   "metadata": {},
   "source": [
    "### Display Grid Mapping"
   ]
  },
  {
   "cell_type": "code",
   "execution_count": 19,
   "id": "b7537462",
   "metadata": {},
   "outputs": [],
   "source": [
    "# project anchor centers onto the original image\n",
    "anc_pts_x_proj = anc_pts_x.clone() * width_scale_factor \n",
    "anc_pts_y_proj = anc_pts_y.clone() * height_scale_factor"
   ]
  },
  {
   "cell_type": "code",
   "execution_count": 20,
   "id": "21241267",
   "metadata": {},
   "outputs": [],
   "source": [
    "# nrows, ncols = (1, 2)\n",
    "# fig, axes = plt.subplots(nrows, ncols, figsize=(16, 8))\n",
    " \n",
    "# fig, axes = display_img(img_data_all, fig, axes)\n",
    "# fig, _ = display_grid(anc_pts_x_proj, anc_pts_y_proj, fig, axes[0])\n",
    "# fig, _ = display_grid(anc_pts_x_proj, anc_pts_y_proj, fig, axes[1])"
   ]
  },
  {
   "cell_type": "markdown",
   "id": "9e10d916",
   "metadata": {},
   "source": [
    "### Create Anchor Boxes around Anchor points"
   ]
  },
  {
   "cell_type": "code",
   "execution_count": 21,
   "id": "7a44365b",
   "metadata": {},
   "outputs": [],
   "source": [
    "anc_scales = [2, 4, 6]\n",
    "anc_ratios = [0.5, 1, 1.5]\n",
    "n_anc_boxes = len(anc_scales) * len(anc_ratios) # number of anchor boxes for each anchor point\n",
    "\n",
    "anc_base = gen_anc_base(anc_pts_x, anc_pts_y, anc_scales, anc_ratios, (out_h, out_w))"
   ]
  },
  {
   "cell_type": "code",
   "execution_count": 22,
   "id": "c4231a4d",
   "metadata": {},
   "outputs": [],
   "source": [
    "# since all the images are scaled to the same size\n",
    "# we can repeat the anchor base for all the images\n",
    "anc_boxes_all = anc_base.repeat(img_data_all.size(dim=0), 1, 1, 1, 1)"
   ]
  },
  {
   "cell_type": "markdown",
   "id": "b7372917",
   "metadata": {},
   "source": [
    "### plot anchor boxes on a single anchor point"
   ]
  },
  {
   "cell_type": "code",
   "execution_count": 23,
   "id": "a41897f3",
   "metadata": {},
   "outputs": [],
   "source": [
    "# nrows, ncols = (1, 2)\n",
    "# fig, axes = plt.subplots(nrows, ncols, figsize=(16, 8))\n",
    "\n",
    "# fig, axes = display_img(img_data_all, fig, axes)\n",
    "\n",
    "# # project anchor boxes to the image\n",
    "# anc_boxes_proj = project_bboxes(anc_boxes_all, width_scale_factor, height_scale_factor, mode='a2p')\n",
    "\n",
    "# # plot anchor boxes around selected anchor points\n",
    "# sp_1 = [5, 8]\n",
    "# sp_2 = [12, 9]\n",
    "# bboxes_1 = anc_boxes_proj[0][sp_1[0], sp_1[1]]\n",
    "# bboxes_2 = anc_boxes_proj[1][sp_2[0], sp_2[1]]\n",
    "\n",
    "# fig, _ = display_grid(anc_pts_x_proj, anc_pts_y_proj, fig, axes[0], (anc_pts_x_proj[sp_1[0]], anc_pts_y_proj[sp_1[1]]))\n",
    "# fig, _ = display_grid(anc_pts_x_proj, anc_pts_y_proj, fig, axes[1], (anc_pts_x_proj[sp_2[0]], anc_pts_y_proj[sp_2[1]]))\n",
    "# fig, _ = display_bbox(bboxes_1, fig, axes[0])\n",
    "# fig, _ = display_bbox(bboxes_2, fig, axes[1])"
   ]
  },
  {
   "cell_type": "markdown",
   "id": "d483f3a3",
   "metadata": {},
   "source": [
    "### plot all anchor boxes"
   ]
  },
  {
   "cell_type": "code",
   "execution_count": 24,
   "id": "f736f9af",
   "metadata": {},
   "outputs": [],
   "source": [
    "# nrows, ncols = (1, 2)\n",
    "# fig, axes = plt.subplots(nrows, ncols, figsize=(16, 8))\n",
    "\n",
    "# fig, axes = display_img(img_data_all, fig, axes)\n",
    "\n",
    "# # plot feature grid\n",
    "# fig, _ = display_grid(anc_pts_x_proj, anc_pts_y_proj, fig, axes[0])\n",
    "# fig, _ = display_grid(anc_pts_x_proj, anc_pts_y_proj, fig, axes[1])\n",
    "\n",
    "# # plot all anchor boxes\n",
    "# for x in range(anc_pts_x_proj.size(dim=0)):\n",
    "#     for y in range(anc_pts_y_proj.size(dim=0)):\n",
    "#         bboxes = anc_boxes_proj[0][x, y]\n",
    "#         fig, _ = display_bbox(bboxes, fig, axes[0], line_width=1)\n",
    "#         fig, _ = display_bbox(bboxes, fig, axes[1], line_width=1)"
   ]
  },
  {
   "cell_type": "markdown",
   "id": "88a86896",
   "metadata": {},
   "source": [
    "### Get Positive and Negative Anchors"
   ]
  },
  {
   "cell_type": "code",
   "execution_count": 25,
   "id": "5e9ae3da",
   "metadata": {},
   "outputs": [],
   "source": [
    "pos_thresh = 0.7\n",
    "neg_thresh = 0.3\n",
    "\n",
    "# project gt bboxes onto the feature map\n",
    "gt_bboxes_proj = project_bboxes(gt_bboxes_all, width_scale_factor, height_scale_factor, mode='p2a')"
   ]
  },
  {
   "cell_type": "code",
   "execution_count": 26,
   "id": "cd5ca2a9",
   "metadata": {},
   "outputs": [],
   "source": [
    "positive_anc_ind, negative_anc_ind, GT_conf_scores, \\\n",
    "GT_offsets, GT_class_pos, positive_anc_coords, \\\n",
    "negative_anc_coords, positive_anc_ind_sep = get_req_anchors(anc_boxes_all, gt_bboxes_proj, gt_classes_all, pos_thresh, neg_thresh)"
   ]
  },
  {
   "cell_type": "markdown",
   "id": "9849899c",
   "metadata": {},
   "source": [
    "#### Visualize positive anchor coordinates"
   ]
  },
  {
   "cell_type": "code",
   "execution_count": 27,
   "id": "cee62c9c",
   "metadata": {},
   "outputs": [],
   "source": [
    "# project anchor coords to the image space\n",
    "pos_anc_proj = project_bboxes(positive_anc_coords, width_scale_factor, height_scale_factor, mode='a2p')\n",
    "neg_anc_proj = project_bboxes(negative_anc_coords, width_scale_factor, height_scale_factor, mode='a2p')\n",
    "\n",
    "# grab +ve and -ve anchors for each image separately\n",
    "\n",
    "anc_idx_1 = torch.where(positive_anc_ind_sep == 0)[0]\n",
    "anc_idx_2 = torch.where(positive_anc_ind_sep == 1)[0]\n",
    "\n",
    "pos_anc_1 = pos_anc_proj[anc_idx_1]\n",
    "pos_anc_2 = pos_anc_proj[anc_idx_2]\n",
    "\n",
    "neg_anc_1 = neg_anc_proj[anc_idx_1]\n",
    "neg_anc_2 = neg_anc_proj[anc_idx_2]"
   ]
  },
  {
   "cell_type": "code",
   "execution_count": 28,
   "id": "69db87d4",
   "metadata": {},
   "outputs": [],
   "source": [
    "# nrows, ncols = (1, 2)\n",
    "# fig, axes = plt.subplots(nrows, ncols, figsize=(16, 8))\n",
    "\n",
    "# fig, axes = display_img(img_data_all, fig, axes)\n",
    "\n",
    "# # plot groundtruth bboxes\n",
    "# fig, _ = display_bbox(gt_bboxes_all[0], fig, axes[0])\n",
    "# fig, _ = display_bbox(gt_bboxes_all[1], fig, axes[1])\n",
    "\n",
    "# # plot positive anchor boxes\n",
    "# fig, _ = display_bbox(pos_anc_1, fig, axes[0], color='g')\n",
    "# fig, _ = display_bbox(pos_anc_2, fig, axes[1], color='g')\n",
    "\n",
    "# # plot negative anchor boxes\n",
    "# fig, _ = display_bbox(neg_anc_1, fig, axes[0], color='r')\n",
    "# fig, _ = display_bbox(neg_anc_2, fig, axes[1], color='r')"
   ]
  },
  {
   "cell_type": "markdown",
   "id": "8eb12593",
   "metadata": {},
   "source": [
    "### Building the model"
   ]
  },
  {
   "cell_type": "code",
   "execution_count": 29,
   "id": "ac428e8d",
   "metadata": {},
   "outputs": [],
   "source": [
    "img_size = (img_height, img_width)\n",
    "out_size = (out_h, out_w)\n",
    "n_classes = len(name2idx) - 1 # exclude pad idx\n",
    "roi_size = (2, 2)\n",
    "\n",
    "detector = TwoStageDetector(img_size, out_size, out_c, n_classes, roi_size)"
   ]
  },
  {
   "cell_type": "code",
   "execution_count": 30,
   "id": "e3d7bccd",
   "metadata": {},
   "outputs": [],
   "source": [
    "detector.eval()\n",
    "total_loss = detector(img_batch, gt_bboxes_batch, gt_classes_batch)\n",
    "proposals_final, conf_scores_final, classes_final = detector.inference(img_batch)"
   ]
  },
  {
   "cell_type": "markdown",
   "id": "b80267cf",
   "metadata": {},
   "source": [
    "### Training loop"
   ]
  },
  {
   "cell_type": "code",
   "execution_count": 31,
   "id": "48885525",
   "metadata": {},
   "outputs": [],
   "source": [
    "def training_loop(model, learning_rate, train_dataloader, n_epochs):\n",
    "    \n",
    "    optimizer = optim.Adam(model.parameters(), lr=learning_rate)\n",
    "    \n",
    "    model.train()\n",
    "    loss_list = []\n",
    "    \n",
    "    for i in tqdm(range(n_epochs)):\n",
    "        total_loss = 0\n",
    "        for img_batch, gt_bboxes_batch, gt_classes_batch in train_dataloader:\n",
    "            \n",
    "            # forward pass\n",
    "            loss = model(img_batch, gt_bboxes_batch, gt_classes_batch)\n",
    "            \n",
    "            # backpropagation\n",
    "            optimizer.zero_grad()\n",
    "            loss.backward()\n",
    "            optimizer.step()\n",
    "            \n",
    "            total_loss += loss.item()\n",
    "        \n",
    "        loss_list.append(total_loss)\n",
    "        \n",
    "    return loss_list"
   ]
  },
  {
   "cell_type": "code",
   "execution_count": 32,
   "id": "ac8e9dac",
   "metadata": {},
   "outputs": [
    {
     "name": "stderr",
     "output_type": "stream",
     "text": [
      "100%|███████████████████████████| 1000/1000 [1:42:32<00:00,  6.15s/it]\n"
     ]
    }
   ],
   "source": [
    "learning_rate = 1e-3\n",
    "n_epochs = 1000\n",
    "\n",
    "loss_list = training_loop(detector, learning_rate, od_dataloader, n_epochs)"
   ]
  },
  {
   "cell_type": "code",
   "execution_count": 33,
   "id": "f0deb6a1",
   "metadata": {},
   "outputs": [
    {
     "data": {
      "text/plain": [
       "[<matplotlib.lines.Line2D at 0x7f4dc84660d0>]"
      ]
     },
     "execution_count": 33,
     "metadata": {},
     "output_type": "execute_result"
    },
    {
     "data": {
      "image/png": "[encoded data removed]",
      "text/plain": [
       "<Figure size 640x480 with 1 Axes>"
      ]
     },
     "metadata": {},
     "output_type": "display_data"
    }
   ],
   "source": [
    "plt.plot(loss_list)"
   ]
  },
  {
   "cell_type": "markdown",
   "id": "3d79ab3b",
   "metadata": {},
   "source": [
    "#### save model"
   ]
  },
  {
   "cell_type": "code",
   "execution_count": 34,
   "id": "8e195978",
   "metadata": {},
   "outputs": [],
   "source": [
    "torch.save(detector.state_dict(), \"model.pt\")"
   ]
  },
  {
   "cell_type": "markdown",
   "id": "691a6420",
   "metadata": {},
   "source": [
    "### Inference"
   ]
  },
  {
   "cell_type": "code",
   "execution_count": 35,
   "id": "9b6fce32",
   "metadata": {},
   "outputs": [],
   "source": [
    "detector.eval()\n",
    "proposals_final, conf_scores_final, classes_final = detector.inference(img_batch, conf_thresh=0.99, nms_thresh=0.05)"
   ]
  },
  {
   "cell_type": "code",
   "execution_count": 36,
   "id": "58741af4",
   "metadata": {},
   "outputs": [
    {
     "name": "stdout",
     "output_type": "stream",
     "text": [
      "tensor([[ 9.1825, -9.3933, 16.4885, 33.6131],\n",
      "        [11.6624, 12.6624, 14.0556, 15.0557],\n",
      "        [15.3373, 30.9277, 15.6921, 31.4821],\n",
      "        [ 8.0546,  7.4017,  8.3716,  9.1432],\n",
      "        [ 9.6156, 10.7310, 11.0795, 13.6591],\n",
      "        [13.4477, 25.5762, 19.2477, 29.4597],\n",
      "        [11.6811,  5.7802, 14.6857,  7.7151]])\n"
     ]
    }
   ],
   "source": [
    "# project proposals to the image space\n",
    "print(proposals_final[0])\n",
    "prop_proj_1 = project_bboxes(proposals_final[0], width_scale_factor, height_scale_factor, mode='a2p')\n",
    "prop_proj_2 = project_bboxes(proposals_final[1], width_scale_factor, height_scale_factor, mode='a2p')\n",
    "\n",
    "# get classes\n",
    "classes_pred_1 = [idx2name[cls] for cls in classes_final[0].tolist()]\n",
    "classes_pred_2 = [idx2name[cls] for cls in classes_final[1].tolist()]"
   ]
  },
  {
   "cell_type": "code",
   "execution_count": 37,
   "id": "7cb367a7",
   "metadata": {},
   "outputs": [
    {
     "data": {
      "image/png": "[encoded data removed]",
      "text/plain": [
       "<Figure size 1600x800 with 2 Axes>"
      ]
     },
     "metadata": {},
     "output_type": "display_data"
    }
   ],
   "source": [
    "nrows, ncols = (1, 2)\n",
    "fig, axes = plt.subplots(nrows, ncols, figsize=(16, 8))\n",
    "\n",
    "fig, axes = display_img(img_batch, fig, axes)\n",
    "fig, _ = display_bbox(prop_proj_1, fig, axes[0], classes=classes_pred_1)\n",
    "fig, _ = display_bbox(prop_proj_2, fig, axes[1], classes=classes_pred_2)"
   ]
  },
  {
   "cell_type": "code",
   "execution_count": null,
   "id": "df9b31f9",
   "metadata": {},
   "outputs": [],
   "source": []
  },
  {
   "cell_type": "code",
   "execution_count": null,
   "id": "e2c77db2",
   "metadata": {},
   "outputs": [],
   "source": []
  },
  {
   "cell_type": "code",
   "execution_count": null,
   "id": "9cd28ee5",
   "metadata": {},
   "outputs": [],
   "source": []
  }
 ],
 "metadata": {
  "kernelspec": {
   "display_name": "Python 3 (ipykernel)",
   "language": "python",
   "name": "python3"
  },
  "language_info": {
   "codemirror_mode": {
    "name": "ipython",
    "version": 3
   },
   "file_extension": ".py",
   "mimetype": "text/x-python",
   "name": "python",
   "nbconvert_exporter": "python",
   "pygments_lexer": "ipython3",
   "version": "3.8.10"
  },
  "vscode": {
   "interpreter": {
    "hash": "b08235501438658af300c09e221ef26f6a7cb02d08c505c418409d5bdf113692"
   }
  }
 },
 "nbformat": 4,
 "nbformat_minor": 5
}
