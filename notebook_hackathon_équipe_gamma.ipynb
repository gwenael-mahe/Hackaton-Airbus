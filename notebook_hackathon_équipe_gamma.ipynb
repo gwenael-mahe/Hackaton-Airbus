{
 "cells": [
  {
   "cell_type": "markdown",
   "id": "b53e96e9",
   "metadata": {},
   "source": [
    "# notebook du hackathon de équipe GAMMA "
   ]
  },
  {
   "cell_type": "markdown",
   "id": "8637a548",
   "metadata": {},
   "source": [
    "notebook réalisé par l'équipe GAMMA pour le hackathon d'airbus du 22/02/2023 au 26/02/2023"
   ]
  },
  {
   "cell_type": "code",
   "execution_count": null,
   "id": "1fda4b89",
   "metadata": {},
   "outputs": [],
   "source": [
    "import "
   ]
  }
 ],
 "metadata": {
  "kernelspec": {
   "display_name": "Python 3 (ipykernel)",
   "language": "python",
   "name": "python3"
  },
  "language_info": {
   "codemirror_mode": {
    "name": "ipython",
    "version": 3
   },
   "file_extension": ".py",
   "mimetype": "text/x-python",
   "name": "python",
   "nbconvert_exporter": "python",
   "pygments_lexer": "ipython3",
   "version": "3.9.13"
  }
 },
 "nbformat": 4,
 "nbformat_minor": 5
}
